{
 "cells": [
  {
   "cell_type": "code",
   "execution_count": 53,
   "metadata": {},
   "outputs": [],
   "source": [
    "import pandas as pd\n",
    "import numpy as np\n",
    "import matplotlib.pyplot as plt\n",
    "import seaborn as sns\n",
    "from sklearn import decomposition\n",
    "%matplotlib inline"
   ]
  },
  {
   "cell_type": "code",
   "execution_count": 80,
   "metadata": {},
   "outputs": [],
   "source": [
    "df=pd.read_csv('C:\\\\Users\\\\Dr. Ankit Bhargava\\\\Downloads\\\\PCA\\\\house_price.csv')"
   ]
  },
  {
   "cell_type": "code",
   "execution_count": 81,
   "metadata": {},
   "outputs": [
    {
     "data": {
      "text/plain": [
       "Index(['Id', 'MSSubClass', 'MSZoning', 'LotFrontage', 'LotArea', 'Street',\n",
       "       'Alley', 'LotShape', 'LandContour', 'Utilities', 'LotConfig',\n",
       "       'LandSlope', 'Neighborhood', 'Condition1', 'Condition2', 'BldgType',\n",
       "       'HouseStyle', 'OverallQual', 'OverallCond', 'YearBuilt', 'YearRemodAdd',\n",
       "       'RoofStyle', 'RoofMatl', 'Exterior1st', 'Exterior2nd', 'MasVnrType',\n",
       "       'MasVnrArea', 'ExterQual', 'ExterCond', 'Foundation', 'BsmtQual',\n",
       "       'BsmtCond', 'BsmtExposure', 'BsmtFinType1', 'BsmtFinSF1',\n",
       "       'BsmtFinType2', 'BsmtFinSF2', 'BsmtUnfSF', 'TotalBsmtSF', 'Heating',\n",
       "       'HeatingQC', 'CentralAir', 'Electrical', '1stFlrSF', '2ndFlrSF',\n",
       "       'LowQualFinSF', 'GrLivArea', 'BsmtFullBath', 'BsmtHalfBath', 'FullBath',\n",
       "       'HalfBath', 'BedroomAbvGr', 'KitchenAbvGr', 'KitchenQual',\n",
       "       'TotRmsAbvGrd', 'Functional', 'Fireplaces', 'FireplaceQu', 'GarageType',\n",
       "       'GarageYrBlt', 'GarageFinish', 'GarageCars', 'GarageArea', 'GarageQual',\n",
       "       'GarageCond', 'PavedDrive', 'WoodDeckSF', 'OpenPorchSF',\n",
       "       'EnclosedPorch', '3SsnPorch', 'ScreenPorch', 'PoolArea', 'PoolQC',\n",
       "       'Fence', 'MiscFeature', 'MiscVal', 'MoSold', 'YrSold', 'SaleType',\n",
       "       'SaleCondition', 'SalePrice'],\n",
       "      dtype='object')"
      ]
     },
     "execution_count": 81,
     "metadata": {},
     "output_type": "execute_result"
    }
   ],
   "source": [
    "df.columns"
   ]
  },
  {
   "cell_type": "code",
   "execution_count": 82,
   "metadata": {},
   "outputs": [],
   "source": [
    "dfnumb=df._get_numeric_data()"
   ]
  },
  {
   "cell_type": "code",
   "execution_count": 83,
   "metadata": {},
   "outputs": [],
   "source": [
    "dfcol=df.columns"
   ]
  },
  {
   "cell_type": "code",
   "execution_count": 84,
   "metadata": {},
   "outputs": [],
   "source": [
    "dfcha=list(set(dfcol)-set(dfnumb))"
   ]
  },
  {
   "cell_type": "code",
   "execution_count": 85,
   "metadata": {},
   "outputs": [
    {
     "data": {
      "text/plain": [
       "['PavedDrive',\n",
       " 'GarageFinish',\n",
       " 'BsmtFinType1',\n",
       " 'Condition2',\n",
       " 'Functional',\n",
       " 'SaleCondition',\n",
       " 'BsmtExposure',\n",
       " 'BsmtCond',\n",
       " 'Neighborhood',\n",
       " 'LandContour',\n",
       " 'BsmtFinType2',\n",
       " 'PoolQC',\n",
       " 'SaleType',\n",
       " 'FireplaceQu',\n",
       " 'MasVnrType',\n",
       " 'MSZoning',\n",
       " 'Street',\n",
       " 'BldgType',\n",
       " 'LotShape',\n",
       " 'Fence',\n",
       " 'Foundation',\n",
       " 'HeatingQC',\n",
       " 'Condition1',\n",
       " 'MiscFeature',\n",
       " 'ExterQual',\n",
       " 'GarageCond',\n",
       " 'CentralAir',\n",
       " 'LotConfig',\n",
       " 'GarageQual',\n",
       " 'GarageType',\n",
       " 'HouseStyle',\n",
       " 'Alley',\n",
       " 'Exterior1st',\n",
       " 'Exterior2nd',\n",
       " 'Utilities',\n",
       " 'ExterCond',\n",
       " 'Electrical',\n",
       " 'BsmtQual',\n",
       " 'Heating',\n",
       " 'RoofMatl',\n",
       " 'RoofStyle',\n",
       " 'LandSlope',\n",
       " 'KitchenQual']"
      ]
     },
     "execution_count": 85,
     "metadata": {},
     "output_type": "execute_result"
    }
   ],
   "source": [
    "dfcha"
   ]
  },
  {
   "cell_type": "code",
   "execution_count": 86,
   "metadata": {},
   "outputs": [],
   "source": [
    "remove_cols='Id'"
   ]
  },
  {
   "cell_type": "code",
   "execution_count": 87,
   "metadata": {},
   "outputs": [],
   "source": [
    "target='SalePrice'"
   ]
  },
  {
   "cell_type": "code",
   "execution_count": 63,
   "metadata": {},
   "outputs": [
    {
     "data": {
      "text/plain": [
       "'Sale_Price'"
      ]
     },
     "execution_count": 63,
     "metadata": {},
     "output_type": "execute_result"
    }
   ],
   "source": [
    "target"
   ]
  },
  {
   "cell_type": "code",
   "execution_count": 88,
   "metadata": {},
   "outputs": [],
   "source": [
    "predictor=list(dfnumb)+list(dfcha)"
   ]
  },
  {
   "cell_type": "code",
   "execution_count": 100,
   "metadata": {},
   "outputs": [],
   "source": [
    "predictor=list(set(predictor)-set(target))"
   ]
  },
  {
   "cell_type": "code",
   "execution_count": 101,
   "metadata": {},
   "outputs": [
    {
     "data": {
      "text/plain": [
       "['PavedDrive',\n",
       " 'TotalBsmtSF',\n",
       " 'BsmtFinType1',\n",
       " 'Functional',\n",
       " 'SaleCondition',\n",
       " 'BsmtExposure',\n",
       " 'BsmtFinType2',\n",
       " 'PoolQC',\n",
       " 'OpenPorchSF',\n",
       " 'BsmtUnfSF',\n",
       " 'OverallQual',\n",
       " 'MasVnrType',\n",
       " 'MSZoning',\n",
       " 'Street',\n",
       " 'GarageCars',\n",
       " 'GarageYrBlt',\n",
       " 'BldgType',\n",
       " 'LotShape',\n",
       " 'Fence',\n",
       " 'LotArea',\n",
       " 'HeatingQC',\n",
       " 'Condition1',\n",
       " 'Id',\n",
       " 'MiscFeature',\n",
       " 'EnclosedPorch',\n",
       " 'ExterQual',\n",
       " 'HalfBath',\n",
       " 'YearBuilt',\n",
       " 'YearRemodAdd',\n",
       " 'HouseStyle',\n",
       " '2ndFlrSF',\n",
       " 'MSSubClass',\n",
       " 'ExterCond',\n",
       " 'WoodDeckSF',\n",
       " 'Electrical',\n",
       " 'Fireplaces',\n",
       " 'BsmtQual',\n",
       " 'MiscVal',\n",
       " 'BedroomAbvGr',\n",
       " 'RoofStyle',\n",
       " 'GrLivArea',\n",
       " 'GarageFinish',\n",
       " 'TotRmsAbvGrd',\n",
       " 'Condition2',\n",
       " 'FullBath',\n",
       " 'BsmtCond',\n",
       " 'Neighborhood',\n",
       " 'OverallCond',\n",
       " 'LandContour',\n",
       " 'SaleType',\n",
       " 'FireplaceQu',\n",
       " 'KitchenAbvGr',\n",
       " 'BsmtFinSF1',\n",
       " 'YrSold',\n",
       " 'MasVnrArea',\n",
       " 'ScreenPorch',\n",
       " 'BsmtFullBath',\n",
       " 'Foundation',\n",
       " 'LowQualFinSF',\n",
       " 'GarageCond',\n",
       " 'CentralAir',\n",
       " 'LotConfig',\n",
       " 'GarageQual',\n",
       " 'GarageType',\n",
       " 'BsmtFinSF2',\n",
       " 'BsmtHalfBath',\n",
       " 'SalePrice',\n",
       " 'PoolArea',\n",
       " 'Alley',\n",
       " 'Exterior1st',\n",
       " 'Exterior2nd',\n",
       " 'Utilities',\n",
       " 'LotFrontage',\n",
       " '1stFlrSF',\n",
       " 'MoSold',\n",
       " 'Heating',\n",
       " 'RoofMatl',\n",
       " 'GarageArea',\n",
       " 'LandSlope',\n",
       " 'KitchenQual',\n",
       " '3SsnPorch']"
      ]
     },
     "execution_count": 101,
     "metadata": {},
     "output_type": "execute_result"
    }
   ],
   "source": [
    "predictor"
   ]
  },
  {
   "cell_type": "code",
   "execution_count": 102,
   "metadata": {},
   "outputs": [],
   "source": [
    "predictor_df=df[predictor]"
   ]
  },
  {
   "cell_type": "code",
   "execution_count": 103,
   "metadata": {},
   "outputs": [],
   "source": [
    "target_df=df[target]"
   ]
  },
  {
   "cell_type": "code",
   "execution_count": 104,
   "metadata": {},
   "outputs": [],
   "source": [
    "predictor_df.fillna(0,inplace=True)"
   ]
  },
  {
   "cell_type": "code",
   "execution_count": 105,
   "metadata": {},
   "outputs": [],
   "source": [
    "predictor_df=pd.get_dummies(predictor_df)"
   ]
  },
  {
   "cell_type": "code",
   "execution_count": 106,
   "metadata": {},
   "outputs": [
    {
     "data": {
      "text/html": [
       "<div>\n",
       "<style scoped>\n",
       "    .dataframe tbody tr th:only-of-type {\n",
       "        vertical-align: middle;\n",
       "    }\n",
       "\n",
       "    .dataframe tbody tr th {\n",
       "        vertical-align: top;\n",
       "    }\n",
       "\n",
       "    .dataframe thead th {\n",
       "        text-align: right;\n",
       "    }\n",
       "</style>\n",
       "<table border=\"1\" class=\"dataframe\">\n",
       "  <thead>\n",
       "    <tr style=\"text-align: right;\">\n",
       "      <th></th>\n",
       "      <th>TotalBsmtSF</th>\n",
       "      <th>OpenPorchSF</th>\n",
       "      <th>BsmtUnfSF</th>\n",
       "      <th>OverallQual</th>\n",
       "      <th>GarageCars</th>\n",
       "      <th>GarageYrBlt</th>\n",
       "      <th>LotArea</th>\n",
       "      <th>Id</th>\n",
       "      <th>EnclosedPorch</th>\n",
       "      <th>HalfBath</th>\n",
       "      <th>...</th>\n",
       "      <th>RoofMatl_Tar&amp;Grv</th>\n",
       "      <th>RoofMatl_WdShake</th>\n",
       "      <th>RoofMatl_WdShngl</th>\n",
       "      <th>LandSlope_Gtl</th>\n",
       "      <th>LandSlope_Mod</th>\n",
       "      <th>LandSlope_Sev</th>\n",
       "      <th>KitchenQual_Ex</th>\n",
       "      <th>KitchenQual_Fa</th>\n",
       "      <th>KitchenQual_Gd</th>\n",
       "      <th>KitchenQual_TA</th>\n",
       "    </tr>\n",
       "  </thead>\n",
       "  <tbody>\n",
       "    <tr>\n",
       "      <th>0</th>\n",
       "      <td>856</td>\n",
       "      <td>61</td>\n",
       "      <td>150</td>\n",
       "      <td>7</td>\n",
       "      <td>2</td>\n",
       "      <td>2003.0</td>\n",
       "      <td>8450</td>\n",
       "      <td>1</td>\n",
       "      <td>0</td>\n",
       "      <td>1</td>\n",
       "      <td>...</td>\n",
       "      <td>0</td>\n",
       "      <td>0</td>\n",
       "      <td>0</td>\n",
       "      <td>1</td>\n",
       "      <td>0</td>\n",
       "      <td>0</td>\n",
       "      <td>0</td>\n",
       "      <td>0</td>\n",
       "      <td>1</td>\n",
       "      <td>0</td>\n",
       "    </tr>\n",
       "    <tr>\n",
       "      <th>1</th>\n",
       "      <td>1262</td>\n",
       "      <td>0</td>\n",
       "      <td>284</td>\n",
       "      <td>6</td>\n",
       "      <td>2</td>\n",
       "      <td>1976.0</td>\n",
       "      <td>9600</td>\n",
       "      <td>2</td>\n",
       "      <td>0</td>\n",
       "      <td>0</td>\n",
       "      <td>...</td>\n",
       "      <td>0</td>\n",
       "      <td>0</td>\n",
       "      <td>0</td>\n",
       "      <td>1</td>\n",
       "      <td>0</td>\n",
       "      <td>0</td>\n",
       "      <td>0</td>\n",
       "      <td>0</td>\n",
       "      <td>0</td>\n",
       "      <td>1</td>\n",
       "    </tr>\n",
       "    <tr>\n",
       "      <th>2</th>\n",
       "      <td>920</td>\n",
       "      <td>42</td>\n",
       "      <td>434</td>\n",
       "      <td>7</td>\n",
       "      <td>2</td>\n",
       "      <td>2001.0</td>\n",
       "      <td>11250</td>\n",
       "      <td>3</td>\n",
       "      <td>0</td>\n",
       "      <td>1</td>\n",
       "      <td>...</td>\n",
       "      <td>0</td>\n",
       "      <td>0</td>\n",
       "      <td>0</td>\n",
       "      <td>1</td>\n",
       "      <td>0</td>\n",
       "      <td>0</td>\n",
       "      <td>0</td>\n",
       "      <td>0</td>\n",
       "      <td>1</td>\n",
       "      <td>0</td>\n",
       "    </tr>\n",
       "    <tr>\n",
       "      <th>3</th>\n",
       "      <td>756</td>\n",
       "      <td>35</td>\n",
       "      <td>540</td>\n",
       "      <td>7</td>\n",
       "      <td>3</td>\n",
       "      <td>1998.0</td>\n",
       "      <td>9550</td>\n",
       "      <td>4</td>\n",
       "      <td>272</td>\n",
       "      <td>0</td>\n",
       "      <td>...</td>\n",
       "      <td>0</td>\n",
       "      <td>0</td>\n",
       "      <td>0</td>\n",
       "      <td>1</td>\n",
       "      <td>0</td>\n",
       "      <td>0</td>\n",
       "      <td>0</td>\n",
       "      <td>0</td>\n",
       "      <td>1</td>\n",
       "      <td>0</td>\n",
       "    </tr>\n",
       "    <tr>\n",
       "      <th>4</th>\n",
       "      <td>1145</td>\n",
       "      <td>84</td>\n",
       "      <td>490</td>\n",
       "      <td>8</td>\n",
       "      <td>3</td>\n",
       "      <td>2000.0</td>\n",
       "      <td>14260</td>\n",
       "      <td>5</td>\n",
       "      <td>0</td>\n",
       "      <td>1</td>\n",
       "      <td>...</td>\n",
       "      <td>0</td>\n",
       "      <td>0</td>\n",
       "      <td>0</td>\n",
       "      <td>1</td>\n",
       "      <td>0</td>\n",
       "      <td>0</td>\n",
       "      <td>0</td>\n",
       "      <td>0</td>\n",
       "      <td>1</td>\n",
       "      <td>0</td>\n",
       "    </tr>\n",
       "  </tbody>\n",
       "</table>\n",
       "<p>5 rows × 306 columns</p>\n",
       "</div>"
      ],
      "text/plain": [
       "   TotalBsmtSF  OpenPorchSF  BsmtUnfSF  OverallQual  GarageCars  GarageYrBlt  \\\n",
       "0          856           61        150            7           2       2003.0   \n",
       "1         1262            0        284            6           2       1976.0   \n",
       "2          920           42        434            7           2       2001.0   \n",
       "3          756           35        540            7           3       1998.0   \n",
       "4         1145           84        490            8           3       2000.0   \n",
       "\n",
       "   LotArea  Id  EnclosedPorch  HalfBath  ...  RoofMatl_Tar&Grv  \\\n",
       "0     8450   1              0         1  ...                 0   \n",
       "1     9600   2              0         0  ...                 0   \n",
       "2    11250   3              0         1  ...                 0   \n",
       "3     9550   4            272         0  ...                 0   \n",
       "4    14260   5              0         1  ...                 0   \n",
       "\n",
       "   RoofMatl_WdShake  RoofMatl_WdShngl  LandSlope_Gtl  LandSlope_Mod  \\\n",
       "0                 0                 0              1              0   \n",
       "1                 0                 0              1              0   \n",
       "2                 0                 0              1              0   \n",
       "3                 0                 0              1              0   \n",
       "4                 0                 0              1              0   \n",
       "\n",
       "   LandSlope_Sev  KitchenQual_Ex  KitchenQual_Fa  KitchenQual_Gd  \\\n",
       "0              0               0               0               1   \n",
       "1              0               0               0               0   \n",
       "2              0               0               0               1   \n",
       "3              0               0               0               1   \n",
       "4              0               0               0               1   \n",
       "\n",
       "   KitchenQual_TA  \n",
       "0               0  \n",
       "1               1  \n",
       "2               0  \n",
       "3               0  \n",
       "4               0  \n",
       "\n",
       "[5 rows x 306 columns]"
      ]
     },
     "execution_count": 106,
     "metadata": {},
     "output_type": "execute_result"
    }
   ],
   "source": [
    "predictor_df.head()"
   ]
  },
  {
   "cell_type": "code",
   "execution_count": 107,
   "metadata": {},
   "outputs": [],
   "source": [
    "predictor_df.drop('Id', inplace=True, axis=1)"
   ]
  },
  {
   "cell_type": "code",
   "execution_count": 108,
   "metadata": {},
   "outputs": [
    {
     "data": {
      "text/html": [
       "<div>\n",
       "<style scoped>\n",
       "    .dataframe tbody tr th:only-of-type {\n",
       "        vertical-align: middle;\n",
       "    }\n",
       "\n",
       "    .dataframe tbody tr th {\n",
       "        vertical-align: top;\n",
       "    }\n",
       "\n",
       "    .dataframe thead th {\n",
       "        text-align: right;\n",
       "    }\n",
       "</style>\n",
       "<table border=\"1\" class=\"dataframe\">\n",
       "  <thead>\n",
       "    <tr style=\"text-align: right;\">\n",
       "      <th></th>\n",
       "      <th>TotalBsmtSF</th>\n",
       "      <th>OpenPorchSF</th>\n",
       "      <th>BsmtUnfSF</th>\n",
       "      <th>OverallQual</th>\n",
       "      <th>GarageCars</th>\n",
       "      <th>GarageYrBlt</th>\n",
       "      <th>LotArea</th>\n",
       "      <th>EnclosedPorch</th>\n",
       "      <th>HalfBath</th>\n",
       "      <th>YearBuilt</th>\n",
       "      <th>...</th>\n",
       "      <th>RoofMatl_Tar&amp;Grv</th>\n",
       "      <th>RoofMatl_WdShake</th>\n",
       "      <th>RoofMatl_WdShngl</th>\n",
       "      <th>LandSlope_Gtl</th>\n",
       "      <th>LandSlope_Mod</th>\n",
       "      <th>LandSlope_Sev</th>\n",
       "      <th>KitchenQual_Ex</th>\n",
       "      <th>KitchenQual_Fa</th>\n",
       "      <th>KitchenQual_Gd</th>\n",
       "      <th>KitchenQual_TA</th>\n",
       "    </tr>\n",
       "  </thead>\n",
       "  <tbody>\n",
       "    <tr>\n",
       "      <th>0</th>\n",
       "      <td>856</td>\n",
       "      <td>61</td>\n",
       "      <td>150</td>\n",
       "      <td>7</td>\n",
       "      <td>2</td>\n",
       "      <td>2003.0</td>\n",
       "      <td>8450</td>\n",
       "      <td>0</td>\n",
       "      <td>1</td>\n",
       "      <td>2003</td>\n",
       "      <td>...</td>\n",
       "      <td>0</td>\n",
       "      <td>0</td>\n",
       "      <td>0</td>\n",
       "      <td>1</td>\n",
       "      <td>0</td>\n",
       "      <td>0</td>\n",
       "      <td>0</td>\n",
       "      <td>0</td>\n",
       "      <td>1</td>\n",
       "      <td>0</td>\n",
       "    </tr>\n",
       "    <tr>\n",
       "      <th>1</th>\n",
       "      <td>1262</td>\n",
       "      <td>0</td>\n",
       "      <td>284</td>\n",
       "      <td>6</td>\n",
       "      <td>2</td>\n",
       "      <td>1976.0</td>\n",
       "      <td>9600</td>\n",
       "      <td>0</td>\n",
       "      <td>0</td>\n",
       "      <td>1976</td>\n",
       "      <td>...</td>\n",
       "      <td>0</td>\n",
       "      <td>0</td>\n",
       "      <td>0</td>\n",
       "      <td>1</td>\n",
       "      <td>0</td>\n",
       "      <td>0</td>\n",
       "      <td>0</td>\n",
       "      <td>0</td>\n",
       "      <td>0</td>\n",
       "      <td>1</td>\n",
       "    </tr>\n",
       "    <tr>\n",
       "      <th>2</th>\n",
       "      <td>920</td>\n",
       "      <td>42</td>\n",
       "      <td>434</td>\n",
       "      <td>7</td>\n",
       "      <td>2</td>\n",
       "      <td>2001.0</td>\n",
       "      <td>11250</td>\n",
       "      <td>0</td>\n",
       "      <td>1</td>\n",
       "      <td>2001</td>\n",
       "      <td>...</td>\n",
       "      <td>0</td>\n",
       "      <td>0</td>\n",
       "      <td>0</td>\n",
       "      <td>1</td>\n",
       "      <td>0</td>\n",
       "      <td>0</td>\n",
       "      <td>0</td>\n",
       "      <td>0</td>\n",
       "      <td>1</td>\n",
       "      <td>0</td>\n",
       "    </tr>\n",
       "    <tr>\n",
       "      <th>3</th>\n",
       "      <td>756</td>\n",
       "      <td>35</td>\n",
       "      <td>540</td>\n",
       "      <td>7</td>\n",
       "      <td>3</td>\n",
       "      <td>1998.0</td>\n",
       "      <td>9550</td>\n",
       "      <td>272</td>\n",
       "      <td>0</td>\n",
       "      <td>1915</td>\n",
       "      <td>...</td>\n",
       "      <td>0</td>\n",
       "      <td>0</td>\n",
       "      <td>0</td>\n",
       "      <td>1</td>\n",
       "      <td>0</td>\n",
       "      <td>0</td>\n",
       "      <td>0</td>\n",
       "      <td>0</td>\n",
       "      <td>1</td>\n",
       "      <td>0</td>\n",
       "    </tr>\n",
       "    <tr>\n",
       "      <th>4</th>\n",
       "      <td>1145</td>\n",
       "      <td>84</td>\n",
       "      <td>490</td>\n",
       "      <td>8</td>\n",
       "      <td>3</td>\n",
       "      <td>2000.0</td>\n",
       "      <td>14260</td>\n",
       "      <td>0</td>\n",
       "      <td>1</td>\n",
       "      <td>2000</td>\n",
       "      <td>...</td>\n",
       "      <td>0</td>\n",
       "      <td>0</td>\n",
       "      <td>0</td>\n",
       "      <td>1</td>\n",
       "      <td>0</td>\n",
       "      <td>0</td>\n",
       "      <td>0</td>\n",
       "      <td>0</td>\n",
       "      <td>1</td>\n",
       "      <td>0</td>\n",
       "    </tr>\n",
       "  </tbody>\n",
       "</table>\n",
       "<p>5 rows × 305 columns</p>\n",
       "</div>"
      ],
      "text/plain": [
       "   TotalBsmtSF  OpenPorchSF  BsmtUnfSF  OverallQual  GarageCars  GarageYrBlt  \\\n",
       "0          856           61        150            7           2       2003.0   \n",
       "1         1262            0        284            6           2       1976.0   \n",
       "2          920           42        434            7           2       2001.0   \n",
       "3          756           35        540            7           3       1998.0   \n",
       "4         1145           84        490            8           3       2000.0   \n",
       "\n",
       "   LotArea  EnclosedPorch  HalfBath  YearBuilt  ...  RoofMatl_Tar&Grv  \\\n",
       "0     8450              0         1       2003  ...                 0   \n",
       "1     9600              0         0       1976  ...                 0   \n",
       "2    11250              0         1       2001  ...                 0   \n",
       "3     9550            272         0       1915  ...                 0   \n",
       "4    14260              0         1       2000  ...                 0   \n",
       "\n",
       "   RoofMatl_WdShake  RoofMatl_WdShngl  LandSlope_Gtl  LandSlope_Mod  \\\n",
       "0                 0                 0              1              0   \n",
       "1                 0                 0              1              0   \n",
       "2                 0                 0              1              0   \n",
       "3                 0                 0              1              0   \n",
       "4                 0                 0              1              0   \n",
       "\n",
       "   LandSlope_Sev  KitchenQual_Ex  KitchenQual_Fa  KitchenQual_Gd  \\\n",
       "0              0               0               0               1   \n",
       "1              0               0               0               0   \n",
       "2              0               0               0               1   \n",
       "3              0               0               0               1   \n",
       "4              0               0               0               1   \n",
       "\n",
       "   KitchenQual_TA  \n",
       "0               0  \n",
       "1               1  \n",
       "2               0  \n",
       "3               0  \n",
       "4               0  \n",
       "\n",
       "[5 rows x 305 columns]"
      ]
     },
     "execution_count": 108,
     "metadata": {},
     "output_type": "execute_result"
    }
   ],
   "source": [
    "predictor_df.head()"
   ]
  },
  {
   "cell_type": "code",
   "execution_count": 109,
   "metadata": {},
   "outputs": [],
   "source": [
    "predictor_df.drop('SalePrice', inplace=True, axis=1)A"
   ]
  },
  {
   "cell_type": "code",
   "execution_count": 110,
   "metadata": {},
   "outputs": [
    {
     "data": {
      "text/html": [
       "<div>\n",
       "<style scoped>\n",
       "    .dataframe tbody tr th:only-of-type {\n",
       "        vertical-align: middle;\n",
       "    }\n",
       "\n",
       "    .dataframe tbody tr th {\n",
       "        vertical-align: top;\n",
       "    }\n",
       "\n",
       "    .dataframe thead th {\n",
       "        text-align: right;\n",
       "    }\n",
       "</style>\n",
       "<table border=\"1\" class=\"dataframe\">\n",
       "  <thead>\n",
       "    <tr style=\"text-align: right;\">\n",
       "      <th></th>\n",
       "      <th>TotalBsmtSF</th>\n",
       "      <th>OpenPorchSF</th>\n",
       "      <th>BsmtUnfSF</th>\n",
       "      <th>OverallQual</th>\n",
       "      <th>GarageCars</th>\n",
       "      <th>GarageYrBlt</th>\n",
       "      <th>LotArea</th>\n",
       "      <th>EnclosedPorch</th>\n",
       "      <th>HalfBath</th>\n",
       "      <th>YearBuilt</th>\n",
       "      <th>...</th>\n",
       "      <th>RoofMatl_Tar&amp;Grv</th>\n",
       "      <th>RoofMatl_WdShake</th>\n",
       "      <th>RoofMatl_WdShngl</th>\n",
       "      <th>LandSlope_Gtl</th>\n",
       "      <th>LandSlope_Mod</th>\n",
       "      <th>LandSlope_Sev</th>\n",
       "      <th>KitchenQual_Ex</th>\n",
       "      <th>KitchenQual_Fa</th>\n",
       "      <th>KitchenQual_Gd</th>\n",
       "      <th>KitchenQual_TA</th>\n",
       "    </tr>\n",
       "  </thead>\n",
       "  <tbody>\n",
       "    <tr>\n",
       "      <th>0</th>\n",
       "      <td>856</td>\n",
       "      <td>61</td>\n",
       "      <td>150</td>\n",
       "      <td>7</td>\n",
       "      <td>2</td>\n",
       "      <td>2003.0</td>\n",
       "      <td>8450</td>\n",
       "      <td>0</td>\n",
       "      <td>1</td>\n",
       "      <td>2003</td>\n",
       "      <td>...</td>\n",
       "      <td>0</td>\n",
       "      <td>0</td>\n",
       "      <td>0</td>\n",
       "      <td>1</td>\n",
       "      <td>0</td>\n",
       "      <td>0</td>\n",
       "      <td>0</td>\n",
       "      <td>0</td>\n",
       "      <td>1</td>\n",
       "      <td>0</td>\n",
       "    </tr>\n",
       "    <tr>\n",
       "      <th>1</th>\n",
       "      <td>1262</td>\n",
       "      <td>0</td>\n",
       "      <td>284</td>\n",
       "      <td>6</td>\n",
       "      <td>2</td>\n",
       "      <td>1976.0</td>\n",
       "      <td>9600</td>\n",
       "      <td>0</td>\n",
       "      <td>0</td>\n",
       "      <td>1976</td>\n",
       "      <td>...</td>\n",
       "      <td>0</td>\n",
       "      <td>0</td>\n",
       "      <td>0</td>\n",
       "      <td>1</td>\n",
       "      <td>0</td>\n",
       "      <td>0</td>\n",
       "      <td>0</td>\n",
       "      <td>0</td>\n",
       "      <td>0</td>\n",
       "      <td>1</td>\n",
       "    </tr>\n",
       "    <tr>\n",
       "      <th>2</th>\n",
       "      <td>920</td>\n",
       "      <td>42</td>\n",
       "      <td>434</td>\n",
       "      <td>7</td>\n",
       "      <td>2</td>\n",
       "      <td>2001.0</td>\n",
       "      <td>11250</td>\n",
       "      <td>0</td>\n",
       "      <td>1</td>\n",
       "      <td>2001</td>\n",
       "      <td>...</td>\n",
       "      <td>0</td>\n",
       "      <td>0</td>\n",
       "      <td>0</td>\n",
       "      <td>1</td>\n",
       "      <td>0</td>\n",
       "      <td>0</td>\n",
       "      <td>0</td>\n",
       "      <td>0</td>\n",
       "      <td>1</td>\n",
       "      <td>0</td>\n",
       "    </tr>\n",
       "    <tr>\n",
       "      <th>3</th>\n",
       "      <td>756</td>\n",
       "      <td>35</td>\n",
       "      <td>540</td>\n",
       "      <td>7</td>\n",
       "      <td>3</td>\n",
       "      <td>1998.0</td>\n",
       "      <td>9550</td>\n",
       "      <td>272</td>\n",
       "      <td>0</td>\n",
       "      <td>1915</td>\n",
       "      <td>...</td>\n",
       "      <td>0</td>\n",
       "      <td>0</td>\n",
       "      <td>0</td>\n",
       "      <td>1</td>\n",
       "      <td>0</td>\n",
       "      <td>0</td>\n",
       "      <td>0</td>\n",
       "      <td>0</td>\n",
       "      <td>1</td>\n",
       "      <td>0</td>\n",
       "    </tr>\n",
       "    <tr>\n",
       "      <th>4</th>\n",
       "      <td>1145</td>\n",
       "      <td>84</td>\n",
       "      <td>490</td>\n",
       "      <td>8</td>\n",
       "      <td>3</td>\n",
       "      <td>2000.0</td>\n",
       "      <td>14260</td>\n",
       "      <td>0</td>\n",
       "      <td>1</td>\n",
       "      <td>2000</td>\n",
       "      <td>...</td>\n",
       "      <td>0</td>\n",
       "      <td>0</td>\n",
       "      <td>0</td>\n",
       "      <td>1</td>\n",
       "      <td>0</td>\n",
       "      <td>0</td>\n",
       "      <td>0</td>\n",
       "      <td>0</td>\n",
       "      <td>1</td>\n",
       "      <td>0</td>\n",
       "    </tr>\n",
       "  </tbody>\n",
       "</table>\n",
       "<p>5 rows × 304 columns</p>\n",
       "</div>"
      ],
      "text/plain": [
       "   TotalBsmtSF  OpenPorchSF  BsmtUnfSF  OverallQual  GarageCars  GarageYrBlt  \\\n",
       "0          856           61        150            7           2       2003.0   \n",
       "1         1262            0        284            6           2       1976.0   \n",
       "2          920           42        434            7           2       2001.0   \n",
       "3          756           35        540            7           3       1998.0   \n",
       "4         1145           84        490            8           3       2000.0   \n",
       "\n",
       "   LotArea  EnclosedPorch  HalfBath  YearBuilt  ...  RoofMatl_Tar&Grv  \\\n",
       "0     8450              0         1       2003  ...                 0   \n",
       "1     9600              0         0       1976  ...                 0   \n",
       "2    11250              0         1       2001  ...                 0   \n",
       "3     9550            272         0       1915  ...                 0   \n",
       "4    14260              0         1       2000  ...                 0   \n",
       "\n",
       "   RoofMatl_WdShake  RoofMatl_WdShngl  LandSlope_Gtl  LandSlope_Mod  \\\n",
       "0                 0                 0              1              0   \n",
       "1                 0                 0              1              0   \n",
       "2                 0                 0              1              0   \n",
       "3                 0                 0              1              0   \n",
       "4                 0                 0              1              0   \n",
       "\n",
       "   LandSlope_Sev  KitchenQual_Ex  KitchenQual_Fa  KitchenQual_Gd  \\\n",
       "0              0               0               0               1   \n",
       "1              0               0               0               0   \n",
       "2              0               0               0               1   \n",
       "3              0               0               0               1   \n",
       "4              0               0               0               1   \n",
       "\n",
       "   KitchenQual_TA  \n",
       "0               0  \n",
       "1               1  \n",
       "2               0  \n",
       "3               0  \n",
       "4               0  \n",
       "\n",
       "[5 rows x 304 columns]"
      ]
     },
     "execution_count": 110,
     "metadata": {},
     "output_type": "execute_result"
    }
   ],
   "source": [
    "predictor_df.head()"
   ]
  },
  {
   "cell_type": "code",
   "execution_count": 131,
   "metadata": {},
   "outputs": [],
   "source": [
    "from sklearn.model_selection import train_test_split\n",
    "from sklearn.linear_model import LinearRegression"
   ]
  },
  {
   "cell_type": "code",
   "execution_count": 143,
   "metadata": {},
   "outputs": [],
   "source": [
    "X_train,X_test, y_train,y_test=train_test_split(predictor_df, target_df, test_size=0.2,random_state=27)"
   ]
  },
  {
   "cell_type": "code",
   "execution_count": 144,
   "metadata": {},
   "outputs": [
    {
     "data": {
      "text/plain": [
       "LinearRegression(copy_X=True, fit_intercept=True, n_jobs=None, normalize=False)"
      ]
     },
     "execution_count": 144,
     "metadata": {},
     "output_type": "execute_result"
    }
   ],
   "source": [
    "regression=LinearRegression()\n",
    "regression.fit(X_train,y_train)"
   ]
  },
  {
   "cell_type": "code",
   "execution_count": 145,
   "metadata": {},
   "outputs": [
    {
     "name": "stdout",
     "output_type": "stream",
     "text": [
      "35482854597.13185\n"
     ]
    }
   ],
   "source": [
    "print(regression.intercept_)"
   ]
  },
  {
   "cell_type": "code",
   "execution_count": 146,
   "metadata": {},
   "outputs": [
    {
     "name": "stdout",
     "output_type": "stream",
     "text": [
      "[ 5.24525465e+05  3.87085686e-01 -5.24506136e+05  7.14496528e+03\n",
      "  4.30024495e+03 -7.21619039e+01  7.04559176e-01  1.93102035e+01\n",
      "  2.22190685e+03  2.70492339e+02  6.78860563e+01  8.55790567e+11\n",
      " -4.74609911e+01  2.34828799e+01  3.79440064e+03  1.71851220e+00\n",
      " -3.23164176e+03 -8.55790567e+11  1.66085244e+03  6.20898524e+03\n",
      "  5.62366065e+03 -1.29416390e+04 -5.24492820e+05 -6.27318510e+02\n",
      "  3.14521946e+01  4.43688335e+01  3.16356960e+03  8.55790567e+11\n",
      " -5.24499663e+05  3.77772254e+03  3.88960981e+02  1.70114109e+01\n",
      "  8.55790567e+11 -4.07500257e+02  1.90129478e+01  3.11600566e+01\n",
      " -5.36453316e+09 -5.36454046e+09 -5.36453297e+09 -3.69687923e+09\n",
      "  5.21870789e+09  5.21870832e+09  5.21871357e+09  5.21870654e+09\n",
      "  5.21870621e+09  5.21870903e+09  2.53356386e+09  2.53355977e+09\n",
      "  2.53357057e+09  2.53357689e+09  2.53356371e+09  2.53354077e+09\n",
      "  2.53358504e+09  7.42088337e+09  7.42088089e+09  7.42088574e+09\n",
      "  7.42087898e+09  7.42089109e+09  7.42089130e+09 -1.85693029e+09\n",
      " -1.85692059e+09 -1.85690742e+09 -1.85692364e+09 -1.85692555e+09\n",
      " -9.18681065e+09 -9.18678247e+09 -9.18680209e+09 -9.18678958e+09\n",
      " -9.18679925e+09 -9.18679808e+09 -9.18679636e+09 -6.49628172e+09\n",
      " -5.01055858e+09 -6.49651080e+09 -6.49646951e+09  4.76137330e+09\n",
      "  4.76136524e+09  4.76136862e+09  4.76137462e+09  4.76137781e+09\n",
      " -2.61522035e+09 -2.61518162e+09 -2.61519992e+09 -2.61519967e+09\n",
      " -2.61520387e+09 -3.91048299e+09 -3.91047550e+09 -5.18046635e+09\n",
      " -5.18046736e+09 -5.18047655e+09 -5.18048719e+09 -5.18048251e+09\n",
      " -1.13626260e+10 -1.13626241e+10 -1.13626181e+10 -1.13626241e+10\n",
      "  1.68190461e+09  1.68189734e+09  1.68190496e+09  1.68190588e+09\n",
      "  1.68189089e+09 -3.39737161e+09 -3.39736684e+09 -3.39737493e+09\n",
      " -3.39738043e+09 -3.39737484e+09 -1.66609558e+09 -1.66608832e+09\n",
      " -1.66608144e+09 -1.66609089e+09 -1.66608010e+09 -1.66610847e+09\n",
      " -1.66608469e+09 -1.66610117e+09 -1.66608969e+09  9.79397193e+08\n",
      "  9.79376800e+08  9.79403169e+08  9.79397307e+08  9.79399313e+08\n",
      " -9.20017030e+08 -9.20033352e+08 -9.20045020e+08 -9.20046306e+08\n",
      " -6.91906894e+08 -6.91903395e+08 -6.91904042e+08 -6.91928356e+08\n",
      " -6.91910387e+08 -6.91912209e+08 -6.91906245e+08 -6.91906987e+08\n",
      " -3.67566006e+09 -3.67566879e+09 -3.67566665e+09 -3.67565377e+09\n",
      " -3.67566401e+09  4.75878526e+08  4.75864217e+08  4.75875352e+08\n",
      "  4.75868497e+08  4.75834063e+08  4.75862190e+08  2.62791068e+09\n",
      " -4.74299723e+09 -4.74301192e+09 -4.74301407e+09 -4.74301192e+09\n",
      " -1.67562504e+08 -1.67557324e+08 -1.67553449e+08 -1.67555513e+08\n",
      " -1.67536377e+08 -1.67449308e+08  1.93154254e+09  1.28747956e+09\n",
      "  1.28747747e+09  1.28748032e+09 -4.09786976e+08 -4.09791954e+08\n",
      " -4.09796179e+08 -4.09765850e+08 -4.10028693e+08 -4.09923330e+08\n",
      " -1.60004491e+09 -4.09788789e+08 -2.61879742e+08 -1.80658758e+09\n",
      " -1.80658611e+09 -1.80650667e+09 -1.80658427e+09 -1.18318314e+09\n",
      " -1.18317586e+09 -1.18318243e+09 -1.18318695e+09 -1.18320182e+09\n",
      " -1.18319075e+09 -1.18316916e+09 -1.18320445e+09 -1.18318945e+09\n",
      " -1.18319343e+09 -1.18318496e+09 -1.18320012e+09 -1.18319696e+09\n",
      " -1.18317095e+09 -1.18319943e+09 -1.18315806e+09 -1.18316438e+09\n",
      " -1.18319706e+09 -1.18319586e+09 -1.18319139e+09 -1.18318484e+09\n",
      " -1.18318901e+09 -1.18314843e+09 -1.18318997e+09 -1.18318308e+09\n",
      " -4.36640700e+09 -4.36640099e+09 -4.36641991e+09 -4.36640257e+09\n",
      " -8.84032634e+08 -8.84008864e+08 -8.84031109e+08 -8.84021029e+08\n",
      " -8.84035533e+08 -8.84039473e+08 -8.84024942e+08 -8.84025059e+08\n",
      " -8.84035668e+08  2.59701070e+09  2.59700855e+09  2.59700573e+09\n",
      "  2.59700778e+09  2.59701489e+09  2.59700784e+09 -3.68796401e+09\n",
      " -3.68795864e+09 -3.68795548e+09 -3.68796823e+09 -3.68795572e+09\n",
      " -3.68798745e+09  2.69081154e+08  2.25679603e+09  1.83450991e+08\n",
      "  1.83443568e+08  1.83459198e+08  1.83447003e+08  2.41377682e+09\n",
      "  2.41377782e+09  8.92856119e+08  8.92864341e+08  8.92849055e+08\n",
      "  8.92835210e+08  8.92855109e+08  3.08650992e+08  1.95270693e+08\n",
      "  2.26860318e+09  2.26861535e+09  2.26857104e+09  2.26861098e+09\n",
      "  3.08662282e+08 -9.21477290e+08 -9.21470526e+08 -9.21458638e+08\n",
      " -9.21470320e+08 -9.21468180e+08 -9.21466686e+08  1.64010083e+09\n",
      "  1.64010067e+09  1.64009721e+09  1.10792997e+09  1.10789381e+09\n",
      "  1.10792985e+09  1.10793930e+09  8.72633396e+08  1.10792846e+09\n",
      "  1.10792279e+09  1.10791873e+09  1.10792347e+09  1.10791705e+09\n",
      "  1.10794219e+09  1.10794050e+09  1.10791701e+09  1.10791726e+09\n",
      "  1.10792370e+09  2.31240972e+08  2.31262879e+08  2.31244133e+08\n",
      "  2.31243339e+08  4.66517284e+08  2.31239587e+08  2.31242867e+08\n",
      "  2.31241778e+08  2.31244348e+08  0.00000000e+00  2.31244508e+08\n",
      "  2.31215941e+08  2.31231707e+08  2.31250297e+08  2.31250363e+08\n",
      "  2.31239844e+08  1.97360478e+09  1.97355074e+09  2.28406224e+09\n",
      "  2.28407779e+09  2.28407159e+09  2.28408142e+09  2.28405076e+09\n",
      "  2.28408077e+09 -1.68002530e+09 -1.67941335e+09 -1.67932409e+09\n",
      " -1.67934787e+09 -1.67944200e+09 -1.67942512e+09 -1.67943895e+09\n",
      " -1.67934313e+09  3.24568854e+08  3.24573529e+08  3.24538390e+08\n",
      "  4.15247692e+08  4.15227871e+08  4.15226718e+08  4.15227201e+08]\n"
     ]
    }
   ],
   "source": [
    "print(regression.coef_)"
   ]
  },
  {
   "cell_type": "code",
   "execution_count": 147,
   "metadata": {},
   "outputs": [],
   "source": [
    "y_pred=regression.predict(X_test)"
   ]
  },
  {
   "cell_type": "code",
   "execution_count": 149,
   "metadata": {},
   "outputs": [
    {
     "data": {
      "text/plain": [
       "LinearRegression(copy_X=True, fit_intercept=True, n_jobs=None, normalize=False)"
      ]
     },
     "execution_count": 149,
     "metadata": {},
     "output_type": "execute_result"
    }
   ],
   "source": [
    "model=LinearRegression()\n",
    "model.fit(X_train,y_train)"
   ]
  },
  {
   "cell_type": "code",
   "execution_count": 150,
   "metadata": {},
   "outputs": [
    {
     "data": {
      "text/plain": [
       "0.9365343352711469"
      ]
     },
     "execution_count": 150,
     "metadata": {},
     "output_type": "execute_result"
    }
   ],
   "source": [
    "model.score(X_train,y_train)"
   ]
  },
  {
   "cell_type": "code",
   "execution_count": 163,
   "metadata": {},
   "outputs": [
    {
     "data": {
      "text/plain": [
       "-5785743.056033611"
      ]
     },
     "execution_count": 163,
     "metadata": {},
     "output_type": "execute_result"
    }
   ],
   "source": [
    "model.score(X_test,y_test)"
   ]
  },
  {
   "cell_type": "code",
   "execution_count": 164,
   "metadata": {},
   "outputs": [],
   "source": [
    "train_pred=model.predict(X_train)"
   ]
  },
  {
   "cell_type": "code",
   "execution_count": 162,
   "metadata": {},
   "outputs": [
    {
     "ename": "NameError",
     "evalue": "name 'mean' is not defined",
     "output_type": "error",
     "traceback": [
      "\u001b[1;31m---------------------------------------------------------------------------\u001b[0m",
      "\u001b[1;31mNameError\u001b[0m                                 Traceback (most recent call last)",
      "\u001b[1;32m<ipython-input-162-18a976ba6deb>\u001b[0m in \u001b[0;36m<module>\u001b[1;34m\u001b[0m\n\u001b[1;32m----> 1\u001b[1;33m \u001b[0mmean\u001b[0m\u001b[1;33m\u001b[0m\u001b[1;33m\u001b[0m\u001b[0m\n\u001b[0m",
      "\u001b[1;31mNameError\u001b[0m: name 'mean' is not defined"
     ]
    }
   ],
   "source": []
  },
  {
   "cell_type": "code",
   "execution_count": 155,
   "metadata": {},
   "outputs": [],
   "source": [
    "from sklearn.metrics import mean_squared_error"
   ]
  },
  {
   "cell_type": "code",
   "execution_count": 160,
   "metadata": {},
   "outputs": [],
   "source": [
    "rms=mean_squared_error(y_pred,y_test)"
   ]
  },
  {
   "cell_type": "code",
   "execution_count": 161,
   "metadata": {},
   "outputs": [
    {
     "data": {
      "text/plain": [
       "3.487890808730352e+16"
      ]
     },
     "execution_count": 161,
     "metadata": {},
     "output_type": "execute_result"
    }
   ],
   "source": [
    "rms"
   ]
  }
 ],
 "metadata": {
  "kernelspec": {
   "display_name": "Python 3",
   "language": "python",
   "name": "python3"
  },
  "language_info": {
   "codemirror_mode": {
    "name": "ipython",
    "version": 3
   },
   "file_extension": ".py",
   "mimetype": "text/x-python",
   "name": "python",
   "nbconvert_exporter": "python",
   "pygments_lexer": "ipython3",
   "version": "3.7.3"
  }
 },
 "nbformat": 4,
 "nbformat_minor": 2
}
